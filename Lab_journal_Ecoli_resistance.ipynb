{
 "cells": [
  {
   "cell_type": "markdown",
   "id": "b3675508",
   "metadata": {},
   "source": [
    "# Lab Journal Project 1. Analysis of Ecoli antibiotic resistance"
   ]
  },
  {
   "cell_type": "markdown",
   "id": "e06a7a21",
   "metadata": {},
   "source": [
    "* [Data loading](#first-bullet)\n",
    "* [Data analysis](#second-bullet)\n",
    "* [Filtering reads](#third-bullet)\n",
    "* [Aligment](#fourth-bullet)\n",
    "* [Sort and index BAM file](#fifth-bullet)\n",
    "* [Variant finding](#sixth-bullet)\n",
    "* [Variants annotation](#seventh-bullet)"
   ]
  },
  {
   "cell_type": "markdown",
   "id": "76bb7d76",
   "metadata": {},
   "source": [
    "## Data loading <a class=\"anchor\" id=\"first-bullet\"></a>"
   ]
  },
  {
   "cell_type": "code",
   "execution_count": 1,
   "id": "5b84b971",
   "metadata": {},
   "outputs": [],
   "source": [
    "!mkdir data\n",
    "!ls"
   ]
  },
  {
   "cell_type": "markdown",
   "id": "c3320758",
   "metadata": {},
   "source": [
    "Downloading reference E.coli files to data path. More information about E.coli https://www.ncbi.nlm.nih.gov/genome/167\n",
    "- *.fna - FASTA format of the nucleotide sequences\n",
    "- *.gff - annotation of the genomic sequence in GFF3\n",
    "- *.gbff - GenBank flat file format for the assembly"
   ]
  },
  {
   "cell_type": "code",
   "execution_count": 2,
   "id": "c0f33782",
   "metadata": {},
   "outputs": [],
   "source": [
    "!wget https://ftp.ncbi.nlm.nih.gov/genomes/all/GCF/000/005/845/GCF_000005845.2_ASM584v2/GCF_000005845.2_ASM584v2_genomic.fna.gz -O data/GCF_000005845.2_ASM584v2_genomic.fna.gz\n",
    "!wget https://ftp.ncbi.nlm.nih.gov/genomes/all/GCF/000/005/845/GCF_000005845.2_ASM584v2/GCF_000005845.2_ASM584v2_genomic.gff.gz -O data/GCF_000005845.2_ASM584v2_genomic.gff.gz\n",
    "!wget https://ftp.ncbi.nlm.nih.gov/genomes/all/GCF/000/005/845/GCF_000005845.2_ASM584v2/GCF_000005845.2_ASM584v2_genomic.gbff.gz -O data/GCF_000005845.2_ASM584v2_genomic.gbff.gz\n",
    "    "
   ]
  },
  {
   "cell_type": "code",
   "execution_count": 7,
   "id": "7e7c8e5e",
   "metadata": {},
   "outputs": [],
   "source": [
    "!gunzip data/GCF_000005845.2_ASM584v2_genomic.fna.gz\n",
    "!gunzip data/GCF_000005845.2_ASM584v2_genomic.gff.gz\n",
    "!gunzip data/GCF_000005845.2_ASM584v2_genomic.gbff.gz"
   ]
  },
  {
   "cell_type": "code",
   "execution_count": 8,
   "id": "4491ea5d",
   "metadata": {},
   "outputs": [
    {
     "name": "stdout",
     "output_type": "stream",
     "text": [
      ">NC_000913.3 Escherichia coli str. K-12 substr. MG1655, complete genome\r\n",
      "AGCTTTTCATTCTGACTGCAACGGGCAATATGTCTCTGTGTGGATTAAAAAAAGAGTGTCTGATAGCAGCTTCTGAACTG\r\n",
      "GTTACCTGCCGTGAGTAAATTAAAATTTTATTGACTTAGGTCACTAAATACTTTAACCAATATAGGCATAGCGCACAGAC\r\n",
      "AGATAAAAATTACAGAGTACACAACATCCATGAAACGCATTAGCACCACCATTACCACCACCATCACCATTACCACAGGT\r\n",
      "AACGGTGCGGGCTGACGCGTACAGGAAACACAGAAAAAAGCCCGCACCTGACAGTGCGGGCTTTTTTTTTCGACCAAAGG\r\n",
      "TAACGAGGTAACAACCATGCGAGTGTTGAAGTTCGGCGGTACATCAGTGGCAAATGCAGAACGTTTTCTGCGTGTTGCCG\r\n",
      "ATATTCTGGAAAGCAATGCCAGGCAGGGGCAGGTGGCCACCGTCCTCTCTGCCCCCGCCAAAATCACCAACCACCTGGTG\r\n",
      "GCGATGATTGAAAAAACCATTAGCGGCCAGGATGCTTTACCCAATATCAGCGATGCCGAACGTATTTTTGCCGAACTTTT\r\n",
      "GACGGGACTCGCCGCCGCCCAGCCGGGGTTCCCGCTGGCGCAATTGAAAACTTTCGTCGATCAGGAATTTGCCCAAATAA\r\n",
      "AACATGTCCTGCATGGCATTAGTTTGTTGGGGCAGTGCCCGGATAGCATCAACGCTGCGCTGATTTGCCGTGGCGAGAAA\r\n"
     ]
    }
   ],
   "source": [
    "!head -10 data/GCF_000005845.2_ASM584v2_genomic.fna"
   ]
  },
  {
   "cell_type": "code",
   "execution_count": 9,
   "id": "09dcb891",
   "metadata": {},
   "outputs": [
    {
     "name": "stdout",
     "output_type": "stream",
     "text": [
      "##gff-version 3\r\n",
      "#!gff-spec-version 1.21\r\n",
      "#!processor NCBI annotwriter\r\n",
      "#!genome-build ASM584v2\r\n",
      "#!genome-build-accession NCBI_Assembly:GCF_000005845.2\r\n",
      "##sequence-region NC_000913.3 1 4641652\r\n",
      "##species https://www.ncbi.nlm.nih.gov/Taxonomy/Browser/wwwtax.cgi?id=511145\r\n",
      "NC_000913.3\tRefSeq\tregion\t1\t4641652\t.\t+\t.\tID=NC_000913.3:1..4641652;Dbxref=taxon:511145;Is_circular=true;Name=ANONYMOUS;gbkey=Src;genome=chromosome;mol_type=genomic DNA;strain=K-12;substrain=MG1655\r\n",
      "NC_000913.3\tRefSeq\tgene\t190\t255\t.\t+\t.\tID=gene-b0001;Dbxref=ASAP:ABE-0000006,ECOCYC:EG11277,GeneID:944742;Name=thrL;gbkey=Gene;gene=thrL;gene_biotype=protein_coding;gene_synonym=ECK0001;locus_tag=b0001\r\n",
      "NC_000913.3\tRefSeq\tCDS\t190\t255\t.\t+\t0\tID=cds-NP_414542.1;Parent=gene-b0001;Dbxref=UniProtKB/Swiss-Prot:P0AD86,Genbank:NP_414542.1,ASAP:ABE-0000006,ECOCYC:EG11277,GeneID:944742;Name=NP_414542.1;gbkey=CDS;gene=thrL;locus_tag=b0001;orig_transcript_id=gnl|b0001|mrna.NP_414542;product=thr operon leader peptide;protein_id=NP_414542.1;transl_table=11\r\n",
      "NC_000913.3\tRefSeq\tgene\t337\t2799\t.\t+\t.\tID=gene-b0002;Dbxref=ASAP:ABE-0000008,ECOCYC:EG10998,GeneID:945803;Name=thrA;gbkey=Gene;gene=thrA;gene_biotype=protein_coding;gene_synonym=ECK0002,Hs,thrA1,thrA2,thrD;locus_tag=b0002\r\n",
      "NC_000913.3\tRefSeq\tCDS\t337\t2799\t.\t+\t0\tID=cds-NP_414543.1;Parent=gene-b0002;Dbxref=UniProtKB/Swiss-Prot:P00561,Genbank:NP_414543.1,ASAP:ABE-0000008,ECOCYC:EG10998,GeneID:945803;Name=NP_414543.1;gbkey=CDS;gene=thrA;locus_tag=b0002;orig_transcript_id=gnl|b0002|mrna.NP_414543;product=fused aspartate kinase/homoserine dehydrogenase 1;protein_id=NP_414543.1;transl_table=11\r\n"
     ]
    }
   ],
   "source": [
    "!head -12 data/GCF_000005845.2_ASM584v2_genomic.gff"
   ]
  },
  {
   "cell_type": "markdown",
   "id": "2beb5dc2",
   "metadata": {},
   "source": [
    "Downloading raw Illumina sequencing reads from shotgun sequencing of an E. coli strain that is resistant to the antibiotic _ampicillin_ "
   ]
  },
  {
   "cell_type": "code",
   "execution_count": 10,
   "id": "989ee821",
   "metadata": {},
   "outputs": [],
   "source": [
    "!wget https://figshare.com/ndownloader/articles/10006541/versions/3 -O data/amp_res.zip"
   ]
  },
  {
   "cell_type": "code",
   "execution_count": 11,
   "id": "e3986a19",
   "metadata": {},
   "outputs": [],
   "source": [
    "!unzip data/amp_res.zip -d data\n",
    "!ls data"
   ]
  },
  {
   "cell_type": "code",
   "execution_count": 12,
   "id": "f70881d9",
   "metadata": {},
   "outputs": [],
   "source": [
    "!gunzip data/amp_res_1.fastq.gz\n",
    "!gunzip data/amp_res_2.fastq.gz\n",
    "!ls data"
   ]
  },
  {
   "cell_type": "code",
   "execution_count": 13,
   "id": "b3d470f4",
   "metadata": {},
   "outputs": [
    {
     "name": "stdout",
     "output_type": "stream",
     "text": [
      "@SRR1363257.37 GWZHISEQ01:153:C1W31ACXX:5:1101:14027:2198 length=101\r\n",
      "GGTTGCAGATTCGCAGTGTCGCTGTTCCAGCGCATCACATCTTTGATGTTCACGCCGTGGCGTTTAGCAATGCTTGAAAGCGAATCGCCTTTGCCCACACG\r\n",
      "+\r\n",
      "@?:=:;DBFADH;CAECEE@@E:FFHGAE4?C?DE<BFGEC>?>FHE4BFFIIFHIBABEECA83;>>@>@CCCDC9@@CC08<@?@BB@9:CC#######\r\n",
      "@SRR1363257.46 GWZHISEQ01:153:C1W31ACXX:5:1101:19721:2155 length=101\r\n",
      "GTATGAGGTTTTGCTGCATTCTCTGNGCGAATATTAACTCCNTNNNNNTTATAGTTCAAAGCAAGTACCTGTCTCTTATACACATCTCCGAGCCCACGAGC\r\n",
      "+\r\n",
      "@@<?=D?D==?<AFGDF+AIHEACH#22<:?E8??:9??GG#0#####000;CF=C)4.==CA@@@)=7?C7?E37;3@>;;(.;>AB#############\r\n",
      "@SRR1363257.77 GWZHISEQ01:153:C1W31ACXX:5:1101:5069:2307 length=101\r\n",
      "GCTTCTCTTAACTGAGGTCACCATCATGCCGTTAAGTCCCTACCTCTCTTTTGCCGGTAACTGTTCCGCCGCGATTGCCTTTTATCTGTCTCTTATACACC\r\n"
     ]
    }
   ],
   "source": [
    "!head -10 data/amp_res_1.fastq"
   ]
  },
  {
   "cell_type": "code",
   "execution_count": 14,
   "id": "9a8bb52f",
   "metadata": {},
   "outputs": [
    {
     "name": "stdout",
     "output_type": "stream",
     "text": [
      "@SRR1363257.37 GWZHISEQ01:153:C1W31ACXX:5:1101:14027:2198 length=101\r\n",
      "GATCTAAGCTGAAGCCAGGCCAAAGTTTGACGATTGGTGCAGGCAGTAGCGCACAGCGACTGGCAAACAACAGCGATAGCATTACGTATCGTGTGCGCAAA\r\n",
      "+\r\n",
      "???BDB:DFHBFD@9;;+A;AFGH;ABHFHHGE@9:B:??@D>@;F?D8<<F8AA9EHHD8'..;5?A?A992(',(59CC3@C>22::A238+2>B<>B<\r\n",
      "@SRR1363257.46 GWZHISEQ01:153:C1W31ACXX:5:1101:19721:2155 length=101\r\n",
      "GTACTTGCTTTGNACTATAATATGCACGGAGNTAATATTCGCTCAGAGAATGCAGCAAAACCTCATACCTGTCTCTTATACACATCTGACGCTGCCGACGA\r\n",
      "+\r\n",
      ";@@DB?B;CFBB#2<:CB:FH<C@:<A?C::#1:86:BG9:8?8688?888EBF;783)=6-7=CC;ECD);?7;;>>AE;>(5;->AC@;B@;8?#####\r\n",
      "@SRR1363257.77 GWZHISEQ01:153:C1W31ACXX:5:1101:5069:2307 length=101\r\n",
      "ATAATAGGCAATCGCGTCGGAACAGTTACCGGCCAAAGAGAGGCAGGGACTTAACGGCATGATGGTGACCTCAGTTAAGAGAAGCCTGTCTCTTATACACA\r\n"
     ]
    }
   ],
   "source": [
    "!head -10 data/amp_res_2.fastq"
   ]
  },
  {
   "cell_type": "markdown",
   "id": "c2225e51",
   "metadata": {},
   "source": [
    "## Data analysis <a class=\"anchor\" id=\"second-bullet\"></a>"
   ]
  },
  {
   "cell_type": "markdown",
   "id": "e6314cf4",
   "metadata": {},
   "source": [
    "About quality scores in Illumina sequencing http://drive5.com/usearch/manual/quality_score.html"
   ]
  },
  {
   "cell_type": "markdown",
   "id": "2c83931d",
   "metadata": {},
   "source": [
    "Initial number of lines:\n",
    "- 1823504 amp_res_2.fastq\n",
    "- 1823504 amp_res_1.fastq\n",
    "\n",
    "4 lines for each reads -> 455876 reads"
   ]
  },
  {
   "cell_type": "code",
   "execution_count": 15,
   "id": "1e0d6fc0",
   "metadata": {},
   "outputs": [
    {
     "name": "stdout",
     "output_type": "stream",
     "text": [
      " 1823504 data/amp_res_2.fastq\n",
      " 1823504 data/amp_res_1.fastq\n"
     ]
    }
   ],
   "source": [
    "!wc -l data/amp_res_2.fastq\n",
    "!wc -l data/amp_res_1.fastq"
   ]
  },
  {
   "cell_type": "code",
   "execution_count": 16,
   "id": "a4ce14ae",
   "metadata": {},
   "outputs": [
    {
     "name": "stdout",
     "output_type": "stream",
     "text": [
      "  455876\r\n"
     ]
    }
   ],
   "source": [
    "!grep 'length' data/amp_res_2.fastq | wc -l "
   ]
  },
  {
   "cell_type": "markdown",
   "id": "1be1071c",
   "metadata": {},
   "source": [
    "Installation fastqc. It makes an analysis of Illumina sequencing and it quality. About analysis results https://www.bioinformatics.babraham.ac.uk/projects/fastqc/Help/"
   ]
  },
  {
   "cell_type": "code",
   "execution_count": 23,
   "id": "1c593291",
   "metadata": {},
   "outputs": [],
   "source": [
    "!brew install fastqc"
   ]
  },
  {
   "cell_type": "markdown",
   "id": "160487cc",
   "metadata": {},
   "source": [
    "For help with functions "
   ]
  },
  {
   "cell_type": "code",
   "execution_count": 17,
   "id": "cf31232a",
   "metadata": {},
   "outputs": [],
   "source": [
    "!fastqc -h"
   ]
  },
  {
   "cell_type": "code",
   "execution_count": 79,
   "id": "b38d47e5",
   "metadata": {},
   "outputs": [],
   "source": [
    "!mkdir fastqc_result"
   ]
  },
  {
   "cell_type": "code",
   "execution_count": 18,
   "id": "c81f224e",
   "metadata": {},
   "outputs": [],
   "source": [
    "!fastqc -o fastqc_result /Users/a_nugmanova/study/IB/practic/Project1/data/amp_res_1.fastq /Users/a_nugmanova/study/IB/practic/Project1/data/amp_res_2.fastq \n"
   ]
  },
  {
   "cell_type": "markdown",
   "id": "017a79e7",
   "metadata": {},
   "source": [
    "Unzip and check the result. There must be several files in each directory."
   ]
  },
  {
   "cell_type": "code",
   "execution_count": 20,
   "id": "85181752",
   "metadata": {},
   "outputs": [],
   "source": [
    "!unzip fastqc_result/amp_res_1_fastqc.zip -d fastqc_result\n",
    "!ls fastqc_result/amp_res_1_fastqc\n",
    "!unzip fastqc_result/amp_res_2_fastqc.zip -d fastqc_result\n",
    "!ls fastqc_result/amp_res_2_fastqc"
   ]
  },
  {
   "cell_type": "code",
   "execution_count": 24,
   "id": "2ad4ff46",
   "metadata": {},
   "outputs": [],
   "source": [
    "!open fastqc_result/amp_res_1_fastqc.html"
   ]
  },
  {
   "cell_type": "code",
   "execution_count": 22,
   "id": "14079a1b",
   "metadata": {},
   "outputs": [],
   "source": [
    "!open fastqc_result/amp_res_2_fastqc.html"
   ]
  },
  {
   "cell_type": "markdown",
   "id": "2bfe08f9",
   "metadata": {},
   "source": [
    "## Filtering reads <a class=\"anchor\" id=\"third-bullet\"></a> "
   ]
  },
  {
   "cell_type": "markdown",
   "id": "924f8f50",
   "metadata": {},
   "source": [
    "With Trimmomatic we can cut read based on it quality. "
   ]
  },
  {
   "cell_type": "code",
   "execution_count": 25,
   "id": "712e2fcd",
   "metadata": {},
   "outputs": [],
   "source": [
    "!brew install Trimmomatic"
   ]
  },
  {
   "cell_type": "code",
   "execution_count": 27,
   "id": "3f73464c",
   "metadata": {},
   "outputs": [],
   "source": [
    "!ls data"
   ]
  },
  {
   "cell_type": "code",
   "execution_count": 28,
   "id": "2b9ae46b",
   "metadata": {},
   "outputs": [],
   "source": [
    "!mkdir trimmomatic_result"
   ]
  },
  {
   "cell_type": "markdown",
   "id": "6e1232fa",
   "metadata": {},
   "source": [
    "Filtering parameters:\n",
    "- ILLUMINACLIP: Cut adapter and other illumina-specific sequences from the read.\n",
    "- SLIDINGWINDOW: Perform a sliding window trimming, cutting once the average quality within the window falls below a threshold.\n",
    "- LEADING: Cut bases off the start of a read, if below a threshold quality\n",
    "- TRAILING: Cut bases off the end of a read, if below a threshold quality\n",
    "- CROP: Cut the read to a specified length\n",
    "- HEADCROP: Cut the specified number of bases from the start of the read\n",
    "- MINLEN: Drop the read if it is below a specified length\n",
    "- TOPHRED33: Convert quality scores to Phred-33\n",
    "- TOPHRED64: Convert quality scores to Phred-64\n",
    "\n",
    "Full description http://www.usadellab.org/cms/?page=trimmomatic"
   ]
  },
  {
   "cell_type": "markdown",
   "id": "70d38eda",
   "metadata": {},
   "source": [
    "Our parameters:\n",
    "- Cut bases off the start of a read if quality below 20\n",
    "- Cut bases off the end of a read if quality below 20\n",
    "- Trim reads using a sliding window approach, with window size 10 and average quality within the window 20.\n",
    "- Drop the read if it is below length 20."
   ]
  },
  {
   "cell_type": "code",
   "execution_count": 29,
   "id": "3aee33d1",
   "metadata": {},
   "outputs": [],
   "source": [
    "!java -jar trimmomatic-0.39.jar PE data/amp_res_1.fastq data/amp_res_2.fastq trimmomatic_result/amp_res_1P.fq trimmomatic_result/amp_res_1U.fq  trimmomatic_result/amp_res_2P.fq trimmomatic_result/amp_res_2U.fq SLIDINGWINDOW:10:20 LEADING:20 TRAILING:20 MINLEN:20\n",
    "                                    "
   ]
  },
  {
   "cell_type": "markdown",
   "id": "6bfa09c2",
   "metadata": {},
   "source": [
    "amp_res_1P.fq contain forward paired reads  \n",
    "\n",
    "amp_res_2P.fq contain forward unpaired reads  \n",
    "\n",
    "amp_res_1U.fq contain reverse paired reads  \n",
    "\n",
    "amp_res_2U.fq contain reverse unpaired reads  "
   ]
  },
  {
   "cell_type": "code",
   "execution_count": 30,
   "id": "4d4e6c15",
   "metadata": {},
   "outputs": [
    {
     "name": "stdout",
     "output_type": "stream",
     "text": [
      " 1782756 trimmomatic_result/amp_res_1P.fq\n",
      " 1782756 trimmomatic_result/amp_res_2P.fq\n"
     ]
    }
   ],
   "source": [
    "!wc -l trimmomatic_result/amp_res_1P.fq\n",
    "!wc -l trimmomatic_result/amp_res_2P.fq"
   ]
  },
  {
   "cell_type": "code",
   "execution_count": 31,
   "id": "15b77893",
   "metadata": {},
   "outputs": [
    {
     "name": "stdout",
     "output_type": "stream",
     "text": [
      "   39032 trimmomatic_result/amp_res_1U.fq\n",
      "    1136 trimmomatic_result/amp_res_2U.fq\n"
     ]
    }
   ],
   "source": [
    "!wc -l trimmomatic_result/amp_res_1U.fq\n",
    "!wc -l trimmomatic_result/amp_res_2U.fq"
   ]
  },
  {
   "cell_type": "markdown",
   "id": "73375c04",
   "metadata": {},
   "source": [
    "After filtering we can check the quality again."
   ]
  },
  {
   "cell_type": "code",
   "execution_count": 32,
   "id": "c39b3aed",
   "metadata": {},
   "outputs": [],
   "source": [
    "!fastqc -o fastqc_result /Users/a_nugmanova/study/IB/practic/Project1/trimmomatic_result/amp_res_1P.fq /Users/a_nugmanova/study/IB/practic/Project1/trimmomatic_result/amp_res_2P.fq\n"
   ]
  },
  {
   "cell_type": "code",
   "execution_count": 33,
   "id": "77d7d02a",
   "metadata": {},
   "outputs": [],
   "source": [
    "!unzip fastqc_result/amp_res_1P_fastqc.zip -d fastqc_result\n",
    "!ls fastqc_result/amp_res_1P_fastqc\n",
    "!unzip fastqc_result/amp_res_2P_fastqc.zip -d fastqc_result\n",
    "!ls fastqc_result/amp_res_2P_fastqc"
   ]
  },
  {
   "cell_type": "code",
   "execution_count": 34,
   "id": "71f93d62",
   "metadata": {},
   "outputs": [],
   "source": [
    "!open fastqc_result/amp_res_1P_fastqc.html"
   ]
  },
  {
   "cell_type": "markdown",
   "id": "863c74a3",
   "metadata": {},
   "source": [
    "## Aligment  <a class=\"anchor\" id=\"fourth-bullet\"></a> "
   ]
  },
  {
   "cell_type": "markdown",
   "id": "af7ae708",
   "metadata": {},
   "source": [
    "BWA MEM algorithm for aligment. It needs index the reference sequence and strain sequence with forward and reverse. Returns sam file with aligment."
   ]
  },
  {
   "cell_type": "code",
   "execution_count": 35,
   "id": "ab6093c0",
   "metadata": {},
   "outputs": [],
   "source": [
    "!brew install bwa\n",
    "!bwa"
   ]
  },
  {
   "cell_type": "code",
   "execution_count": 36,
   "id": "351262dd",
   "metadata": {},
   "outputs": [],
   "source": [
    "!bwa index data/GCF_000005845.2_ASM584v2_genomic.fna "
   ]
  },
  {
   "cell_type": "code",
   "execution_count": 37,
   "id": "0cca8d85",
   "metadata": {},
   "outputs": [],
   "source": [
    "!mkdir alignment"
   ]
  },
  {
   "cell_type": "markdown",
   "id": "a3ed83e3",
   "metadata": {},
   "source": [
    "Aligment of source reads "
   ]
  },
  {
   "cell_type": "code",
   "execution_count": 38,
   "id": "87a54b94",
   "metadata": {},
   "outputs": [],
   "source": [
    "# !bwa mem data/GCF_000005845.2_ASM584v2_genomic.fna data/amp_res_1.fastq data/amp_res_2.fastq > alignment/alignment.sam\n"
   ]
  },
  {
   "cell_type": "markdown",
   "id": "2a4b0101",
   "metadata": {},
   "source": [
    "Aligment of filtered reads "
   ]
  },
  {
   "cell_type": "code",
   "execution_count": 39,
   "id": "bfb19c66",
   "metadata": {},
   "outputs": [],
   "source": [
    "!bwa mem data/GCF_000005845.2_ASM584v2_genomic.fna trimmomatic_result/amp_res_1P.fq trimmomatic_result/amp_res_2P.fq > alignment/alignment.sam\n"
   ]
  },
  {
   "cell_type": "markdown",
   "id": "51cd407c",
   "metadata": {},
   "source": [
    "About sam format https://samtools.github.io/hts-specs/SAMv1.pdf"
   ]
  },
  {
   "cell_type": "code",
   "execution_count": 51,
   "id": "586693be",
   "metadata": {},
   "outputs": [
    {
     "name": "stdout",
     "output_type": "stream",
     "text": [
      "@SQ\tSN:NC_000913.3\tLN:4641652\r\n",
      "@PG\tID:bwa\tPN:bwa\tVN:0.7.17-r1188\tCL:bwa mem data/GCF_000005845.2_ASM584v2_genomic.fna trimmomatic_result/amp_res_1P.fq trimmomatic_result/amp_res_2P.fq\r\n",
      "SRR1363257.37\t99\tNC_000913.3\t232649\t60\t94M\t=\t232767\t190\tGGTTGCAGATTCGCAGTGTCGCTGTTCCAGCGCATCACATCTTTGATGTTCACGCCGTGGCGTTTAGCAATGCTTGAAAGCGAATCGCCTTTGC\t@?:=:;DBFADH;CAECEE@@E:FFHGAE4?C?DE<BFGEC>?>FHE4BFFIIFHIBABEECA83;>>@>@CCCDC9@@CC08<@?@BB@9:CC\tNM:i:0\tMD:Z:94\tMC:Z:72M\tAS:i:94\tXS:i:0\r\n",
      "SRR1363257.37\t147\tNC_000913.3\t232767\t60\t72M\t=\t232649\t-190\tTGTTGTTTGCCAGTCGCTGTGCGCTACTGCCTGCACCAATCGTCAAACTTTGGCCTGGCTTCAGCTTAGATC\t99A?A?5;..'8DHHE9AA8F<<8D?F;@>D@??:B:9@EGHHFHBA;HGFA;A+;;9@DFBHFD:BDB???\tNM:i:0\tMD:Z:72\tMC:Z:94M\tAS:i:72\tXS:i:0\r\n",
      "SRR1363257.46\t99\tNC_000913.3\t1197462\t60\t41M\t=\t1197462\t68\tGTATGAGGTTTTGCTGCATTCTCTGNGCGAATATTAACTCC\t@@<?=D?D==?<AFGDF+AIHEACH#22<:?E8??:9??GG\tNM:i:1\tMD:Z:25A15\tMC:Z:28S68M\tAS:i:39\tXS:i:0\r\n"
     ]
    }
   ],
   "source": [
    "!head -5 alignment/alignment.sam"
   ]
  },
  {
   "cell_type": "markdown",
   "id": "3a808ceb",
   "metadata": {},
   "source": [
    "## Sort and index BAM file <a class=\"anchor\" id=\"fifth-bullet\"></a> "
   ]
  },
  {
   "cell_type": "markdown",
   "id": "5bec95d2",
   "metadata": {},
   "source": [
    "BAM file is just compressed SAM file"
   ]
  },
  {
   "cell_type": "code",
   "execution_count": 40,
   "id": "80fc32fd",
   "metadata": {},
   "outputs": [],
   "source": [
    "!brew install samtools"
   ]
  },
  {
   "cell_type": "code",
   "execution_count": 41,
   "id": "6559aa72",
   "metadata": {},
   "outputs": [],
   "source": [
    "!samtools view -S -b alignment/alignment.sam > alignment/alignment.bam"
   ]
  },
  {
   "cell_type": "code",
   "execution_count": 42,
   "id": "1546a3b7",
   "metadata": {},
   "outputs": [
    {
     "name": "stdout",
     "output_type": "stream",
     "text": [
      "891635 + 0 in total (QC-passed reads + QC-failed reads)\n",
      "891378 + 0 primary\n",
      "0 + 0 secondary\n",
      "257 + 0 supplementary\n",
      "0 + 0 duplicates\n",
      "0 + 0 primary duplicates\n",
      "890569 + 0 mapped (99.88% : N/A)\n",
      "890312 + 0 primary mapped (99.88% : N/A)\n",
      "891378 + 0 paired in sequencing\n",
      "445689 + 0 read1\n",
      "445689 + 0 read2\n",
      "887530 + 0 properly paired (99.57% : N/A)\n",
      "889384 + 0 with itself and mate mapped\n",
      "928 + 0 singletons (0.10% : N/A)\n",
      "0 + 0 with mate mapped to a different chr\n",
      "0 + 0 with mate mapped to a different chr (mapQ>=5)\n"
     ]
    }
   ],
   "source": [
    "!samtools flagstat alignment/alignment.bam"
   ]
  },
  {
   "cell_type": "code",
   "execution_count": 43,
   "id": "77d20999",
   "metadata": {},
   "outputs": [],
   "source": [
    "!samtools sort alignment/alignment.bam -o alignment/alignment_sorted.bam"
   ]
  },
  {
   "cell_type": "code",
   "execution_count": 44,
   "id": "305daa00",
   "metadata": {},
   "outputs": [],
   "source": [
    "!samtools index alignment/alignment_sorted.bam"
   ]
  },
  {
   "cell_type": "markdown",
   "id": "6ee42265",
   "metadata": {},
   "source": [
    "## Variant finding <a class=\"anchor\" id=\"sixth-bullet\"></a> "
   ]
  },
  {
   "cell_type": "markdown",
   "id": "ed69c9aa",
   "metadata": {},
   "source": [
    "Mpileup goes through each position in reference sequence and compares it with reads."
   ]
  },
  {
   "cell_type": "code",
   "execution_count": 45,
   "id": "7a67ee70",
   "metadata": {},
   "outputs": [],
   "source": [
    "!samtools mpileup -f data/GCF_000005845.2_ASM584v2_genomic.fna alignment/alignment_sorted.bam > my.mpileup"
   ]
  },
  {
   "cell_type": "code",
   "execution_count": 55,
   "id": "a004dc58",
   "metadata": {},
   "outputs": [
    {
     "name": "stdout",
     "output_type": "stream",
     "text": [
      "NC_000913.3\t1\tA\t5\t^].^].^],^],^],\t>;EEB\r\n",
      "NC_000913.3\t2\tG\t7\t...,,,,\tE1=JII0\r\n",
      "NC_000913.3\t3\tC\t7\t...,,,,\tH9=IGH8\r\n",
      "NC_000913.3\t4\tT\t7\t...,,,,\tE;CGCD9\r\n",
      "NC_000913.3\t5\tT\t7\t...,,,,\tC<EIJJ:\r\n"
     ]
    }
   ],
   "source": [
    "!head -5 my.mpileup"
   ]
  },
  {
   "cell_type": "markdown",
   "id": "5da33dd4",
   "metadata": {},
   "source": [
    "VarScan select variants from mpileup file \n",
    "\n",
    "Source jar file: https://github.com/dkoboldt/varscan"
   ]
  },
  {
   "cell_type": "code",
   "execution_count": 46,
   "id": "566a4a7f",
   "metadata": {},
   "outputs": [],
   "source": [
    "!java -jar VarScan.v2.4.0.jar mpileup2snp -h"
   ]
  },
  {
   "cell_type": "code",
   "execution_count": 47,
   "id": "9d3f8ec8",
   "metadata": {},
   "outputs": [
    {
     "name": "stdout",
     "output_type": "stream",
     "text": [
      "Only SNPs will be reported\n",
      "Warning: No p-value threshold provided, so p-values will not be calculated\n",
      "Min coverage:\t8\n",
      "Min reads2:\t2\n",
      "Min var freq:\t0.2\n",
      "Min avg qual:\t15\n",
      "P-value thresh:\t0.01\n",
      "Reading input from my.mpileup\n",
      "4641476 bases in pileup file\n",
      "9 variant positions (6 SNP, 3 indel)\n",
      "0 were failed by the strand-filter\n",
      "6 variant positions reported (6 SNP, 0 indel)\n"
     ]
    }
   ],
   "source": [
    "!java -jar varscan/VarScan.v2.4.0.jar mpileup2snp my.mpileup --min-var-freq 0.2 --variants --output-vcf 1 > VarScan_results.vcf\n"
   ]
  },
  {
   "cell_type": "code",
   "execution_count": 48,
   "id": "33d29463",
   "metadata": {},
   "outputs": [
    {
     "name": "stdout",
     "output_type": "stream",
     "text": [
      "NC_000913.3\r\n"
     ]
    }
   ],
   "source": [
    "!grep -v \"^#\" VarScan_results.vcf | cut -f 1 | uniq"
   ]
  },
  {
   "cell_type": "code",
   "execution_count": 49,
   "id": "ee44db89",
   "metadata": {},
   "outputs": [],
   "source": [
    "# !mkdir -p data/k12"
   ]
  },
  {
   "cell_type": "markdown",
   "id": "f40c73ac",
   "metadata": {},
   "source": [
    "## Variants annotation  <a class=\"anchor\" id=\"seventh-bullet\"></a> "
   ]
  },
  {
   "cell_type": "markdown",
   "id": "02713b49",
   "metadata": {},
   "source": [
    "snpEff annotate all variants and return the information about changes, gene names etc.\n",
    "\n",
    "Source jar file: http://pcingola.github.io/SnpEff/"
   ]
  },
  {
   "cell_type": "code",
   "execution_count": 60,
   "id": "1a49e234",
   "metadata": {},
   "outputs": [],
   "source": [
    "!cp data/GCF_000005845.2_ASM584v2_genomic.gbff snpEff/data/ecoli_K12/genes.gbk\n",
    "!ls snpEff"
   ]
  },
  {
   "cell_type": "markdown",
   "id": "243bb138",
   "metadata": {},
   "source": [
    "We need to build our own database of ecoli. \n",
    "\n",
    "Important moments:\n",
    "- data/ecoli_K12/genes.gbk should be in directory with snpEff.jar\n",
    "- near the snpEff.jar should be snpEff.config which include only(!) one line:\n",
    "```ecoli_K12.genome : ecoli_K12```"
   ]
  },
  {
   "cell_type": "code",
   "execution_count": 56,
   "id": "e9c02275",
   "metadata": {},
   "outputs": [],
   "source": [
    "!java -jar snpEff/snpEff.jar build -genbank -v ecoli_K12"
   ]
  },
  {
   "cell_type": "code",
   "execution_count": 61,
   "id": "12ac18f2",
   "metadata": {},
   "outputs": [],
   "source": [
    "!java -jar snpEff/snpEff.jar ann ecoli_K12 VarScan_results.vcf > VarScan_results_annotated.vcf"
   ]
  },
  {
   "cell_type": "code",
   "execution_count": 72,
   "id": "75b60b8d",
   "metadata": {},
   "outputs": [
    {
     "name": "stdout",
     "output_type": "stream",
     "text": [
      "##SnpEffCmd=\"SnpEff  ecoli_K12 VarScan_results.vcf \"\r\n",
      "##INFO=<ID=ANN,Number=.,Type=String,Description=\"Functional annotations: 'Allele | Annotation | Annotation_Impact | Gene_Name | Gene_ID | Feature_Type | Feature_ID | Transcript_BioType | Rank | HGVS.c | HGVS.p | cDNA.pos / cDNA.length | CDS.pos / CDS.length | AA.pos / AA.length | Distance | ERRORS / WARNINGS / INFO' \">\r\n",
      "##INFO=<ID=LOF,Number=.,Type=String,Description=\"Predicted loss of function effects for this variant. Format: 'Gene_Name | Gene_ID | Number_of_transcripts_in_gene | Percent_of_transcripts_affected'\">\r\n",
      "##INFO=<ID=NMD,Number=.,Type=String,Description=\"Predicted nonsense mediated decay effects for this variant. Format: 'Gene_Name | Gene_ID | Number_of_transcripts_in_gene | Percent_of_transcripts_affected'\">\r\n",
      "#CHROM\tPOS\tID\tREF\tALT\tQUAL\tFILTER\tINFO\tFORMAT\tSample1\r\n",
      "NC_000913.3\t93043\t.\tC\tG\t.\tPASS\tADP=17;WT=0;HET=0;HOM=1;NC=0;ANN=G|missense_variant|MODERATE|ftsI|b0084|transcript|b0084|protein_coding|1/1|c.1631C>G|p.Ala544Gly|1631/1767|1631/1767|544/588||,G|upstream_gene_variant|MODIFIER|murE|b0085|transcript|b0085|protein_coding||c.-123C>G|||||123|WARNING_TRANSCRIPT_NO_START_CODON,G|upstream_gene_variant|MODIFIER|murF|b0086|transcript|b0086|protein_coding||c.-1607C>G|||||1607|,G|upstream_gene_variant|MODIFIER|mraY|b0087|transcript|b0087|protein_coding||c.-2959C>G|||||2959|,G|upstream_gene_variant|MODIFIER|murD|b0088|transcript|b0088|protein_coding||c.-4044C>G|||||4044|,G|downstream_gene_variant|MODIFIER|cra|b0080|transcript|b0080|protein_coding||c.*4011C>G|||||4011|WARNING_TRANSCRIPT_NO_START_CODON,G|downstream_gene_variant|MODIFIER|mraZ|b0081|transcript|b0081|protein_coding||c.*2951C>G|||||2951|,G|downstream_gene_variant|MODIFIER|rsmH|b0082|transcript|b0082|protein_coding||c.*2008C>G|||||2008|,G|downstream_gene_variant|MODIFIER|ftsL|b0083|transcript|b0083|protein_coding||c.*1646C>G|||||1646|\tGT:GQ:SDP:DP:RD:AD:FREQ:PVAL:RBQ:ABQ:RDF:RDR:ADF:ADR\t1/1:93:18:17:0:17:100%:4.2852E-10:0:36:0:0:7:10\r\n"
     ]
    }
   ],
   "source": [
    "# !head -20 VarScan_results_annotated.vcf\n",
    "!sed -n 25,30p VarScan_results_annotated.vcf"
   ]
  },
  {
   "cell_type": "code",
   "execution_count": null,
   "id": "bb2b74c4",
   "metadata": {},
   "outputs": [],
   "source": []
  }
 ],
 "metadata": {
  "kernelspec": {
   "display_name": "Python 3 (ipykernel)",
   "language": "python",
   "name": "python3"
  },
  "language_info": {
   "codemirror_mode": {
    "name": "ipython",
    "version": 3
   },
   "file_extension": ".py",
   "mimetype": "text/x-python",
   "name": "python",
   "nbconvert_exporter": "python",
   "pygments_lexer": "ipython3",
   "version": "3.10.4"
  }
 },
 "nbformat": 4,
 "nbformat_minor": 5
}
